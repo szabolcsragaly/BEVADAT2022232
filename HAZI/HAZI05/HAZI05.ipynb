{
 "cells": [
  {
   "cell_type": "code",
   "execution_count": 1,
   "metadata": {},
   "outputs": [],
   "source": [
    "import pandas as pd\n",
    "import seaborn as sns\n",
    "from typing import Tuple\n",
    "from scipy.stats import mode\n",
    "from sklearn.metrics import confusion_matrix\n",
    "\n",
    "class KNNClassifier:\n",
    "\n",
    "\n",
    "    def __init__(self,k:int,test_split_ratio:float):\n",
    "        self.k = k\n",
    "        self.test_split_ratio = test_split_ratio\n",
    "        self.x_train = 0\n",
    "        self.y_train = 0\n",
    "        self.x_test = 0\n",
    "        self.y_test = 0"
   ]
  }
 ],
 "metadata": {
  "kernelspec": {
   "display_name": "Python 3",
   "language": "python",
   "name": "python3"
  },
  "language_info": {
   "codemirror_mode": {
    "name": "ipython",
    "version": 3
   },
   "file_extension": ".py",
   "mimetype": "text/x-python",
   "name": "python",
   "nbconvert_exporter": "python",
   "pygments_lexer": "ipython3",
   "version": "3.10.10"
  },
  "orig_nbformat": 4,
  "vscode": {
   "interpreter": {
    "hash": "dc138d32badb8acb6c977c060e2d6971791060bf0013b41ac02e86f3d222582d"
   }
  }
 },
 "nbformat": 4,
 "nbformat_minor": 2
}
