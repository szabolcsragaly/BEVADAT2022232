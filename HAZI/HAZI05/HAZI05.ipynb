{
 "cells": [
  {
   "cell_type": "code",
   "execution_count": 2,
   "metadata": {},
   "outputs": [],
   "source": [
    "import pandas as pd\n",
    "import numpy as np\n",
    "import seaborn as sns\n",
    "from typing import Tuple\n",
    "from scipy.stats import mode\n",
    "from sklearn.metrics import confusion_matrix\n",
    "\n",
    "class KNNClassifier:\n",
    "    \n",
    "    def __init__(self, k:int,test_split_ratio:float) -> None:\n",
    "        self.k = k\n",
    "        self.test_split_ratio = test_split_ratio\n",
    "\n",
    "\n",
    "    @property\n",
    "    def k_neighbors(self):\n",
    "        return self.k\n",
    "\n",
    "\n",
    "    @staticmethod\n",
    "    def load_csv(csv_path:str)->Tuple[pd.DataFrame,pd.DataFrame]:\n",
    "        df = pd.read_csv(csv_path)\n",
    "        df = df.sample(random_state=42,frac=1).reset_index(drop=True)\n",
    "        x = df.iloc[:,:-1]\n",
    "        y = df.iloc[:,-1]\n",
    "        return x,y\n",
    "\n",
    "    def train_test_split(self,features:pd.DataFrame,labels:pd.DataFrame):\n",
    "        test_size = int(len(features)*self.test_split_ratio)\n",
    "        train_size = len(features) - test_size\n",
    "        assert len(features) == test_size + train_size,'Size mismatch!'\n",
    "        x_train,y_train = features.iloc[:train_size,:],labels.iloc[:train_size]\n",
    "        x_test,y_test = features.iloc[train_size:,:],labels.iloc[train_size:]\n",
    "        self.x_train, self.y_train, self.x_test, self.y_test = x_train, y_train, x_test, y_test\n",
    "    \n",
    "    def euclidean(self,element_of_x:pd.DataFrame):\n",
    "        return ((self.x_train - element_of_x)**2).sum(axis=1)**0.5\n",
    "    \n",
    "    def predict(self,x_test:pd.DataFrame):\n",
    "        labels_pred = []\n",
    "        for index,x_test_element in x_test.iterrows():\n",
    "              distances = self.euclidean(x_test_element)\n",
    "              distances = pd.DataFrame(sorted(zip(distances,self.y_train)))\n",
    "              label_pred = mode(distances.iloc[:self.k,1],keepdims=False)\n",
    "              labels_pred.append(label_pred)\n",
    "        self.y_preds = pd.DataFrame(labels_pred).iloc[:,0]\n",
    "\n",
    "    def accuracy(self)->float:\n",
    "        true_positive = (self.y_test.reset_index(drop=True) == self.y_preds.reset_index(drop=True)).sum()\n",
    "        return true_positive / len(self.y_test) * 100\n",
    "    \n",
    "    def confusion_matrix(self):\n",
    "        conf_matrix = confusion_matrix(self.y_test,self.y_preds)\n",
    "        return conf_matrix\n",
    "\n",
    "    def best_k(self) -> Tuple[int, float]:\n",
    "        best_k = 0\n",
    "        best_accuracy = 0.0\n",
    "        k = self.k\n",
    "        for i in range(20):\n",
    "            self.k = i+1\n",
    "            self.predict(self.x_test)\n",
    "            current_accuracy = self.accuracy()\n",
    "            if (best_accuracy < current_accuracy):\n",
    "                best_k = i+1\n",
    "                best_accuracy = current_accuracy\n",
    "        self.k = k\n",
    "        return best_k, round(best_accuracy, 2)"
   ]
  }
 ],
 "metadata": {
  "kernelspec": {
   "display_name": "Python 3",
   "language": "python",
   "name": "python3"
  },
  "language_info": {
   "codemirror_mode": {
    "name": "ipython",
    "version": 3
   },
   "file_extension": ".py",
   "mimetype": "text/x-python",
   "name": "python",
   "nbconvert_exporter": "python",
   "pygments_lexer": "ipython3",
   "version": "3.10.10"
  },
  "orig_nbformat": 4,
  "vscode": {
   "interpreter": {
    "hash": "dc138d32badb8acb6c977c060e2d6971791060bf0013b41ac02e86f3d222582d"
   }
  }
 },
 "nbformat": 4,
 "nbformat_minor": 2
}
